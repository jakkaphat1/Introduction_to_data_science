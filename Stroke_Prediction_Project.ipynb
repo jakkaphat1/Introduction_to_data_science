{
  "nbformat": 4,
  "nbformat_minor": 0,
  "metadata": {
    "colab": {
      "provenance": []
    },
    "kernelspec": {
      "name": "python3",
      "display_name": "Python 3"
    },
    "language_info": {
      "name": "python"
    }
  },
  "cells": [
    {
      "cell_type": "code",
      "execution_count": null,
      "metadata": {
        "id": "FUu592gXXmLm"
      },
      "outputs": [],
      "source": [
        "#1\n",
        "import warnings\n",
        "warnings.filterwarnings('ignore')\n",
        "\n",
        "\n",
        "\n",
        "import numpy as np # linear algebra\n",
        "import pandas as pd #pd.read_csv\n",
        "import seaborn as sns #\n",
        "import sklearn\n",
        "\n",
        "import matplotlib.pyplot as plt\n",
        "import plotly.express as px\n",
        "from plotly.subplots import make_subplots\n",
        "import plotly.graph_objects as go\n",
        "import plotly.figure_factory as ff\n",
        "\n",
        "\n",
        "from sklearn.model_selection import train_test_split\n",
        "from sklearn.model_selection import cross_val_score\n",
        "from sklearn.model_selection import StratifiedKFold\n",
        "from sklearn.model_selection import GridSearchCV\n",
        "\n",
        "from sklearn.metrics import accuracy_score, classification_report, roc_curve,precision_recall_curve, auc,confusion_matrix\n",
        "from sklearn.preprocessing import LabelEncoder\n",
        "from sklearn.linear_model import LogisticRegression\n",
        "from sklearn.tree import DecisionTreeClassifier\n",
        "from sklearn.ensemble import RandomForestClassifier\n",
        "from sklearn.neighbors import KNeighborsClassifier\n",
        "from sklearn.discriminant_analysis import LinearDiscriminantAnalysis\n",
        "from sklearn.impute import KNNImputer\n",
        "\n",
        "\n"
      ]
    },
    {
      "cell_type": "code",
      "source": [
        "#2\n",
        "from google.colab import drive\n",
        "drive.mount('/content/drive')"
      ],
      "metadata": {
        "colab": {
          "base_uri": "https://localhost:8080/"
        },
        "id": "IVEfBCxiqUXc",
        "outputId": "8f83f0df-9c93-48d7-e4fe-a4d56c35b863"
      },
      "execution_count": null,
      "outputs": [
        {
          "output_type": "stream",
          "name": "stdout",
          "text": [
            "Drive already mounted at /content/drive; to attempt to forcibly remount, call drive.mount(\"/content/drive\", force_remount=True).\n"
          ]
        }
      ]
    },
    {
      "cell_type": "code",
      "source": [
        "#3 read data\n",
        "\n",
        "path = '/content/drive/MyDrive/healthcare-dataset-stroke-data.csv'\n",
        "\n",
        "df = pd.read_csv(path)\n",
        "df = df.drop('id', axis=1)\n",
        "df.head()\n"
      ],
      "metadata": {
        "colab": {
          "base_uri": "https://localhost:8080/"
        },
        "id": "bJQ-4xL4YHuq",
        "outputId": "321b9cf7-674c-480c-ce96-552c102f4c97"
      },
      "execution_count": null,
      "outputs": [
        {
          "output_type": "execute_result",
          "data": {
            "text/plain": [
              "   gender   age  hypertension  heart_disease ever_married      work_type  \\\n",
              "0    Male  67.0             0              1          Yes        Private   \n",
              "1  Female  61.0             0              0          Yes  Self-employed   \n",
              "2    Male  80.0             0              1          Yes        Private   \n",
              "3  Female  49.0             0              0          Yes        Private   \n",
              "4  Female  79.0             1              0          Yes  Self-employed   \n",
              "\n",
              "  Residence_type  avg_glucose_level   bmi   smoking_status  stroke  \n",
              "0          Urban             228.69  36.6  formerly smoked       1  \n",
              "1          Rural             202.21   NaN     never smoked       1  \n",
              "2          Rural             105.92  32.5     never smoked       1  \n",
              "3          Urban             171.23  34.4           smokes       1  \n",
              "4          Rural             174.12  24.0     never smoked       1  "
            ],
            "text/html": [
              "\n",
              "  <div id=\"df-47c080f5-000f-4b79-ab8c-2716bebfab05\" class=\"colab-df-container\">\n",
              "    <div>\n",
              "<style scoped>\n",
              "    .dataframe tbody tr th:only-of-type {\n",
              "        vertical-align: middle;\n",
              "    }\n",
              "\n",
              "    .dataframe tbody tr th {\n",
              "        vertical-align: top;\n",
              "    }\n",
              "\n",
              "    .dataframe thead th {\n",
              "        text-align: right;\n",
              "    }\n",
              "</style>\n",
              "<table border=\"1\" class=\"dataframe\">\n",
              "  <thead>\n",
              "    <tr style=\"text-align: right;\">\n",
              "      <th></th>\n",
              "      <th>gender</th>\n",
              "      <th>age</th>\n",
              "      <th>hypertension</th>\n",
              "      <th>heart_disease</th>\n",
              "      <th>ever_married</th>\n",
              "      <th>work_type</th>\n",
              "      <th>Residence_type</th>\n",
              "      <th>avg_glucose_level</th>\n",
              "      <th>bmi</th>\n",
              "      <th>smoking_status</th>\n",
              "      <th>stroke</th>\n",
              "    </tr>\n",
              "  </thead>\n",
              "  <tbody>\n",
              "    <tr>\n",
              "      <th>0</th>\n",
              "      <td>Male</td>\n",
              "      <td>67.0</td>\n",
              "      <td>0</td>\n",
              "      <td>1</td>\n",
              "      <td>Yes</td>\n",
              "      <td>Private</td>\n",
              "      <td>Urban</td>\n",
              "      <td>228.69</td>\n",
              "      <td>36.6</td>\n",
              "      <td>formerly smoked</td>\n",
              "      <td>1</td>\n",
              "    </tr>\n",
              "    <tr>\n",
              "      <th>1</th>\n",
              "      <td>Female</td>\n",
              "      <td>61.0</td>\n",
              "      <td>0</td>\n",
              "      <td>0</td>\n",
              "      <td>Yes</td>\n",
              "      <td>Self-employed</td>\n",
              "      <td>Rural</td>\n",
              "      <td>202.21</td>\n",
              "      <td>NaN</td>\n",
              "      <td>never smoked</td>\n",
              "      <td>1</td>\n",
              "    </tr>\n",
              "    <tr>\n",
              "      <th>2</th>\n",
              "      <td>Male</td>\n",
              "      <td>80.0</td>\n",
              "      <td>0</td>\n",
              "      <td>1</td>\n",
              "      <td>Yes</td>\n",
              "      <td>Private</td>\n",
              "      <td>Rural</td>\n",
              "      <td>105.92</td>\n",
              "      <td>32.5</td>\n",
              "      <td>never smoked</td>\n",
              "      <td>1</td>\n",
              "    </tr>\n",
              "    <tr>\n",
              "      <th>3</th>\n",
              "      <td>Female</td>\n",
              "      <td>49.0</td>\n",
              "      <td>0</td>\n",
              "      <td>0</td>\n",
              "      <td>Yes</td>\n",
              "      <td>Private</td>\n",
              "      <td>Urban</td>\n",
              "      <td>171.23</td>\n",
              "      <td>34.4</td>\n",
              "      <td>smokes</td>\n",
              "      <td>1</td>\n",
              "    </tr>\n",
              "    <tr>\n",
              "      <th>4</th>\n",
              "      <td>Female</td>\n",
              "      <td>79.0</td>\n",
              "      <td>1</td>\n",
              "      <td>0</td>\n",
              "      <td>Yes</td>\n",
              "      <td>Self-employed</td>\n",
              "      <td>Rural</td>\n",
              "      <td>174.12</td>\n",
              "      <td>24.0</td>\n",
              "      <td>never smoked</td>\n",
              "      <td>1</td>\n",
              "    </tr>\n",
              "  </tbody>\n",
              "</table>\n",
              "</div>\n",
              "    <div class=\"colab-df-buttons\">\n",
              "\n",
              "  <div class=\"colab-df-container\">\n",
              "    <button class=\"colab-df-convert\" onclick=\"convertToInteractive('df-47c080f5-000f-4b79-ab8c-2716bebfab05')\"\n",
              "            title=\"Convert this dataframe to an interactive table.\"\n",
              "            style=\"display:none;\">\n",
              "\n",
              "  <svg xmlns=\"http://www.w3.org/2000/svg\" height=\"24px\" viewBox=\"0 -960 960 960\">\n",
              "    <path d=\"M120-120v-720h720v720H120Zm60-500h600v-160H180v160Zm220 220h160v-160H400v160Zm0 220h160v-160H400v160ZM180-400h160v-160H180v160Zm440 0h160v-160H620v160ZM180-180h160v-160H180v160Zm440 0h160v-160H620v160Z\"/>\n",
              "  </svg>\n",
              "    </button>\n",
              "\n",
              "  <style>\n",
              "    .colab-df-container {\n",
              "      display:flex;\n",
              "      gap: 12px;\n",
              "    }\n",
              "\n",
              "    .colab-df-convert {\n",
              "      background-color: #E8F0FE;\n",
              "      border: none;\n",
              "      border-radius: 50%;\n",
              "      cursor: pointer;\n",
              "      display: none;\n",
              "      fill: #1967D2;\n",
              "      height: 32px;\n",
              "      padding: 0 0 0 0;\n",
              "      width: 32px;\n",
              "    }\n",
              "\n",
              "    .colab-df-convert:hover {\n",
              "      background-color: #E2EBFA;\n",
              "      box-shadow: 0px 1px 2px rgba(60, 64, 67, 0.3), 0px 1px 3px 1px rgba(60, 64, 67, 0.15);\n",
              "      fill: #174EA6;\n",
              "    }\n",
              "\n",
              "    .colab-df-buttons div {\n",
              "      margin-bottom: 4px;\n",
              "    }\n",
              "\n",
              "    [theme=dark] .colab-df-convert {\n",
              "      background-color: #3B4455;\n",
              "      fill: #D2E3FC;\n",
              "    }\n",
              "\n",
              "    [theme=dark] .colab-df-convert:hover {\n",
              "      background-color: #434B5C;\n",
              "      box-shadow: 0px 1px 3px 1px rgba(0, 0, 0, 0.15);\n",
              "      filter: drop-shadow(0px 1px 2px rgba(0, 0, 0, 0.3));\n",
              "      fill: #FFFFFF;\n",
              "    }\n",
              "  </style>\n",
              "\n",
              "    <script>\n",
              "      const buttonEl =\n",
              "        document.querySelector('#df-47c080f5-000f-4b79-ab8c-2716bebfab05 button.colab-df-convert');\n",
              "      buttonEl.style.display =\n",
              "        google.colab.kernel.accessAllowed ? 'block' : 'none';\n",
              "\n",
              "      async function convertToInteractive(key) {\n",
              "        const element = document.querySelector('#df-47c080f5-000f-4b79-ab8c-2716bebfab05');\n",
              "        const dataTable =\n",
              "          await google.colab.kernel.invokeFunction('convertToInteractive',\n",
              "                                                    [key], {});\n",
              "        if (!dataTable) return;\n",
              "\n",
              "        const docLinkHtml = 'Like what you see? Visit the ' +\n",
              "          '<a target=\"_blank\" href=https://colab.research.google.com/notebooks/data_table.ipynb>data table notebook</a>'\n",
              "          + ' to learn more about interactive tables.';\n",
              "        element.innerHTML = '';\n",
              "        dataTable['output_type'] = 'display_data';\n",
              "        await google.colab.output.renderOutput(dataTable, element);\n",
              "        const docLink = document.createElement('div');\n",
              "        docLink.innerHTML = docLinkHtml;\n",
              "        element.appendChild(docLink);\n",
              "      }\n",
              "    </script>\n",
              "  </div>\n",
              "\n",
              "\n",
              "<div id=\"df-03a0fd36-3802-427e-a2bd-a6c413dd67b0\">\n",
              "  <button class=\"colab-df-quickchart\" onclick=\"quickchart('df-03a0fd36-3802-427e-a2bd-a6c413dd67b0')\"\n",
              "            title=\"Suggest charts\"\n",
              "            style=\"display:none;\">\n",
              "\n",
              "<svg xmlns=\"http://www.w3.org/2000/svg\" height=\"24px\"viewBox=\"0 0 24 24\"\n",
              "     width=\"24px\">\n",
              "    <g>\n",
              "        <path d=\"M19 3H5c-1.1 0-2 .9-2 2v14c0 1.1.9 2 2 2h14c1.1 0 2-.9 2-2V5c0-1.1-.9-2-2-2zM9 17H7v-7h2v7zm4 0h-2V7h2v10zm4 0h-2v-4h2v4z\"/>\n",
              "    </g>\n",
              "</svg>\n",
              "  </button>\n",
              "\n",
              "<style>\n",
              "  .colab-df-quickchart {\n",
              "      --bg-color: #E8F0FE;\n",
              "      --fill-color: #1967D2;\n",
              "      --hover-bg-color: #E2EBFA;\n",
              "      --hover-fill-color: #174EA6;\n",
              "      --disabled-fill-color: #AAA;\n",
              "      --disabled-bg-color: #DDD;\n",
              "  }\n",
              "\n",
              "  [theme=dark] .colab-df-quickchart {\n",
              "      --bg-color: #3B4455;\n",
              "      --fill-color: #D2E3FC;\n",
              "      --hover-bg-color: #434B5C;\n",
              "      --hover-fill-color: #FFFFFF;\n",
              "      --disabled-bg-color: #3B4455;\n",
              "      --disabled-fill-color: #666;\n",
              "  }\n",
              "\n",
              "  .colab-df-quickchart {\n",
              "    background-color: var(--bg-color);\n",
              "    border: none;\n",
              "    border-radius: 50%;\n",
              "    cursor: pointer;\n",
              "    display: none;\n",
              "    fill: var(--fill-color);\n",
              "    height: 32px;\n",
              "    padding: 0;\n",
              "    width: 32px;\n",
              "  }\n",
              "\n",
              "  .colab-df-quickchart:hover {\n",
              "    background-color: var(--hover-bg-color);\n",
              "    box-shadow: 0 1px 2px rgba(60, 64, 67, 0.3), 0 1px 3px 1px rgba(60, 64, 67, 0.15);\n",
              "    fill: var(--button-hover-fill-color);\n",
              "  }\n",
              "\n",
              "  .colab-df-quickchart-complete:disabled,\n",
              "  .colab-df-quickchart-complete:disabled:hover {\n",
              "    background-color: var(--disabled-bg-color);\n",
              "    fill: var(--disabled-fill-color);\n",
              "    box-shadow: none;\n",
              "  }\n",
              "\n",
              "  .colab-df-spinner {\n",
              "    border: 2px solid var(--fill-color);\n",
              "    border-color: transparent;\n",
              "    border-bottom-color: var(--fill-color);\n",
              "    animation:\n",
              "      spin 1s steps(1) infinite;\n",
              "  }\n",
              "\n",
              "  @keyframes spin {\n",
              "    0% {\n",
              "      border-color: transparent;\n",
              "      border-bottom-color: var(--fill-color);\n",
              "      border-left-color: var(--fill-color);\n",
              "    }\n",
              "    20% {\n",
              "      border-color: transparent;\n",
              "      border-left-color: var(--fill-color);\n",
              "      border-top-color: var(--fill-color);\n",
              "    }\n",
              "    30% {\n",
              "      border-color: transparent;\n",
              "      border-left-color: var(--fill-color);\n",
              "      border-top-color: var(--fill-color);\n",
              "      border-right-color: var(--fill-color);\n",
              "    }\n",
              "    40% {\n",
              "      border-color: transparent;\n",
              "      border-right-color: var(--fill-color);\n",
              "      border-top-color: var(--fill-color);\n",
              "    }\n",
              "    60% {\n",
              "      border-color: transparent;\n",
              "      border-right-color: var(--fill-color);\n",
              "    }\n",
              "    80% {\n",
              "      border-color: transparent;\n",
              "      border-right-color: var(--fill-color);\n",
              "      border-bottom-color: var(--fill-color);\n",
              "    }\n",
              "    90% {\n",
              "      border-color: transparent;\n",
              "      border-bottom-color: var(--fill-color);\n",
              "    }\n",
              "  }\n",
              "</style>\n",
              "\n",
              "  <script>\n",
              "    async function quickchart(key) {\n",
              "      const quickchartButtonEl =\n",
              "        document.querySelector('#' + key + ' button');\n",
              "      quickchartButtonEl.disabled = true;  // To prevent multiple clicks.\n",
              "      quickchartButtonEl.classList.add('colab-df-spinner');\n",
              "      try {\n",
              "        const charts = await google.colab.kernel.invokeFunction(\n",
              "            'suggestCharts', [key], {});\n",
              "      } catch (error) {\n",
              "        console.error('Error during call to suggestCharts:', error);\n",
              "      }\n",
              "      quickchartButtonEl.classList.remove('colab-df-spinner');\n",
              "      quickchartButtonEl.classList.add('colab-df-quickchart-complete');\n",
              "    }\n",
              "    (() => {\n",
              "      let quickchartButtonEl =\n",
              "        document.querySelector('#df-03a0fd36-3802-427e-a2bd-a6c413dd67b0 button');\n",
              "      quickchartButtonEl.style.display =\n",
              "        google.colab.kernel.accessAllowed ? 'block' : 'none';\n",
              "    })();\n",
              "  </script>\n",
              "</div>\n",
              "\n",
              "    </div>\n",
              "  </div>\n"
            ],
            "application/vnd.google.colaboratory.intrinsic+json": {
              "type": "dataframe",
              "variable_name": "df",
              "summary": "{\n  \"name\": \"df\",\n  \"rows\": 5110,\n  \"fields\": [\n    {\n      \"column\": \"gender\",\n      \"properties\": {\n        \"dtype\": \"category\",\n        \"num_unique_values\": 3,\n        \"samples\": [\n          \"Male\",\n          \"Female\",\n          \"Other\"\n        ],\n        \"semantic_type\": \"\",\n        \"description\": \"\"\n      }\n    },\n    {\n      \"column\": \"age\",\n      \"properties\": {\n        \"dtype\": \"number\",\n        \"std\": 22.61264672311349,\n        \"min\": 0.08,\n        \"max\": 82.0,\n        \"num_unique_values\": 104,\n        \"samples\": [\n          45.0,\n          24.0,\n          33.0\n        ],\n        \"semantic_type\": \"\",\n        \"description\": \"\"\n      }\n    },\n    {\n      \"column\": \"hypertension\",\n      \"properties\": {\n        \"dtype\": \"number\",\n        \"std\": 0,\n        \"min\": 0,\n        \"max\": 1,\n        \"num_unique_values\": 2,\n        \"samples\": [\n          1,\n          0\n        ],\n        \"semantic_type\": \"\",\n        \"description\": \"\"\n      }\n    },\n    {\n      \"column\": \"heart_disease\",\n      \"properties\": {\n        \"dtype\": \"number\",\n        \"std\": 0,\n        \"min\": 0,\n        \"max\": 1,\n        \"num_unique_values\": 2,\n        \"samples\": [\n          0,\n          1\n        ],\n        \"semantic_type\": \"\",\n        \"description\": \"\"\n      }\n    },\n    {\n      \"column\": \"ever_married\",\n      \"properties\": {\n        \"dtype\": \"category\",\n        \"num_unique_values\": 2,\n        \"samples\": [\n          \"No\",\n          \"Yes\"\n        ],\n        \"semantic_type\": \"\",\n        \"description\": \"\"\n      }\n    },\n    {\n      \"column\": \"work_type\",\n      \"properties\": {\n        \"dtype\": \"category\",\n        \"num_unique_values\": 5,\n        \"samples\": [\n          \"Self-employed\",\n          \"Never_worked\"\n        ],\n        \"semantic_type\": \"\",\n        \"description\": \"\"\n      }\n    },\n    {\n      \"column\": \"Residence_type\",\n      \"properties\": {\n        \"dtype\": \"category\",\n        \"num_unique_values\": 2,\n        \"samples\": [\n          \"Rural\",\n          \"Urban\"\n        ],\n        \"semantic_type\": \"\",\n        \"description\": \"\"\n      }\n    },\n    {\n      \"column\": \"avg_glucose_level\",\n      \"properties\": {\n        \"dtype\": \"number\",\n        \"std\": 45.28356015058198,\n        \"min\": 55.12,\n        \"max\": 271.74,\n        \"num_unique_values\": 3979,\n        \"samples\": [\n          178.29,\n          156.69\n        ],\n        \"semantic_type\": \"\",\n        \"description\": \"\"\n      }\n    },\n    {\n      \"column\": \"bmi\",\n      \"properties\": {\n        \"dtype\": \"number\",\n        \"std\": 7.854066729680164,\n        \"min\": 10.3,\n        \"max\": 97.6,\n        \"num_unique_values\": 418,\n        \"samples\": [\n          49.5,\n          18.5\n        ],\n        \"semantic_type\": \"\",\n        \"description\": \"\"\n      }\n    },\n    {\n      \"column\": \"smoking_status\",\n      \"properties\": {\n        \"dtype\": \"category\",\n        \"num_unique_values\": 4,\n        \"samples\": [\n          \"never smoked\",\n          \"Unknown\"\n        ],\n        \"semantic_type\": \"\",\n        \"description\": \"\"\n      }\n    },\n    {\n      \"column\": \"stroke\",\n      \"properties\": {\n        \"dtype\": \"number\",\n        \"std\": 0,\n        \"min\": 0,\n        \"max\": 1,\n        \"num_unique_values\": 2,\n        \"samples\": [\n          0,\n          1\n        ],\n        \"semantic_type\": \"\",\n        \"description\": \"\"\n      }\n    }\n  ]\n}"
            }
          },
          "metadata": {},
          "execution_count": 26
        }
      ]
    },
    {
      "cell_type": "code",
      "source": [
        "#4\n",
        "df.info()"
      ],
      "metadata": {
        "colab": {
          "base_uri": "https://localhost:8080/"
        },
        "id": "8EN4KGobmKu6",
        "outputId": "b45740f6-436b-4548-e3e5-7ab5b4a7a607"
      },
      "execution_count": null,
      "outputs": [
        {
          "output_type": "stream",
          "name": "stdout",
          "text": [
            "<class 'pandas.core.frame.DataFrame'>\n",
            "RangeIndex: 5110 entries, 0 to 5109\n",
            "Data columns (total 11 columns):\n",
            " #   Column             Non-Null Count  Dtype  \n",
            "---  ------             --------------  -----  \n",
            " 0   gender             5110 non-null   object \n",
            " 1   age                5110 non-null   float64\n",
            " 2   hypertension       5110 non-null   int64  \n",
            " 3   heart_disease      5110 non-null   int64  \n",
            " 4   ever_married       5110 non-null   object \n",
            " 5   work_type          5110 non-null   object \n",
            " 6   Residence_type     5110 non-null   object \n",
            " 7   avg_glucose_level  5110 non-null   float64\n",
            " 8   bmi                4909 non-null   float64\n",
            " 9   smoking_status     5110 non-null   object \n",
            " 10  stroke             5110 non-null   int64  \n",
            "dtypes: float64(3), int64(3), object(5)\n",
            "memory usage: 439.3+ KB\n"
          ]
        }
      ]
    },
    {
      "cell_type": "code",
      "source": [
        "#5Encoding\n",
        "label_encoder = LabelEncoder()\n",
        "\n",
        "en_df = df.copy()  # ทำการคัดลอก DataFrame เพื่อไม่ให้เปลี่ยนแปลง df ต้นฉบับ\n",
        "\n",
        "en_df['gender'] = label_encoder.fit_transform(en_df['gender'])\n",
        "en_df['ever_married'] = label_encoder.fit_transform(en_df['ever_married'])\n",
        "en_df['Residence_type'] = label_encoder.fit_transform(en_df['Residence_type'])\n",
        "en_df['work_type'] = label_encoder.fit_transform(en_df['work_type'])\n",
        "en_df['smoking_status'] = label_encoder.fit_transform(en_df['smoking_status'])\n",
        "en_df['stroke'] = label_encoder.fit_transform(en_df['stroke'])"
      ],
      "metadata": {
        "id": "wDqMG2XxnxJv"
      },
      "execution_count": null,
      "outputs": []
    },
    {
      "cell_type": "code",
      "source": [
        "#6\n",
        "en_df['hypertension'] = en_df['hypertension'].astype(int)\n",
        "en_df['heart_disease'] = en_df['heart_disease'].astype(int)"
      ],
      "metadata": {
        "id": "H8DBHnJtoxjc"
      },
      "execution_count": null,
      "outputs": []
    },
    {
      "cell_type": "code",
      "source": [
        "#7\n",
        "en_df.iloc[0:30]"
      ],
      "metadata": {
        "id": "r0sJ2VxhYEQk",
        "colab": {
          "base_uri": "https://localhost:8080/"
        },
        "outputId": "c5d419d3-70eb-43c7-9cab-070794af52cb"
      },
      "execution_count": null,
      "outputs": [
        {
          "output_type": "execute_result",
          "data": {
            "text/plain": [
              "    gender   age  hypertension  heart_disease  ever_married  work_type  \\\n",
              "0        1  67.0             0              1             1          2   \n",
              "1        0  61.0             0              0             1          3   \n",
              "2        1  80.0             0              1             1          2   \n",
              "3        0  49.0             0              0             1          2   \n",
              "4        0  79.0             1              0             1          3   \n",
              "5        1  81.0             0              0             1          2   \n",
              "6        1  74.0             1              1             1          2   \n",
              "7        0  69.0             0              0             0          2   \n",
              "8        0  59.0             0              0             1          2   \n",
              "9        0  78.0             0              0             1          2   \n",
              "10       0  81.0             1              0             1          2   \n",
              "11       0  61.0             0              1             1          0   \n",
              "12       0  54.0             0              0             1          2   \n",
              "13       1  78.0             0              1             1          2   \n",
              "14       0  79.0             0              1             1          2   \n",
              "15       0  50.0             1              0             1          3   \n",
              "16       1  64.0             0              1             1          2   \n",
              "17       1  75.0             1              0             1          2   \n",
              "18       0  60.0             0              0             0          2   \n",
              "19       1  57.0             0              1             0          0   \n",
              "20       0  71.0             0              0             1          0   \n",
              "21       0  52.0             1              0             1          3   \n",
              "22       0  79.0             0              0             1          3   \n",
              "23       1  82.0             0              1             1          2   \n",
              "24       1  71.0             0              0             1          2   \n",
              "25       1  80.0             0              0             1          3   \n",
              "26       0  65.0             0              0             1          2   \n",
              "27       1  58.0             0              0             1          2   \n",
              "28       1  69.0             0              1             1          3   \n",
              "29       1  59.0             0              0             1          2   \n",
              "\n",
              "    Residence_type  avg_glucose_level   bmi  smoking_status  stroke  \n",
              "0                1             228.69  36.6               1       1  \n",
              "1                0             202.21   NaN               2       1  \n",
              "2                0             105.92  32.5               2       1  \n",
              "3                1             171.23  34.4               3       1  \n",
              "4                0             174.12  24.0               2       1  \n",
              "5                1             186.21  29.0               1       1  \n",
              "6                0              70.09  27.4               2       1  \n",
              "7                1              94.39  22.8               2       1  \n",
              "8                0              76.15   NaN               0       1  \n",
              "9                1              58.57  24.2               0       1  \n",
              "10               0              80.43  29.7               2       1  \n",
              "11               0             120.46  36.8               3       1  \n",
              "12               1             104.51  27.3               3       1  \n",
              "13               1             219.84   NaN               0       1  \n",
              "14               1             214.09  28.2               2       1  \n",
              "15               0             167.41  30.9               2       1  \n",
              "16               1             191.61  37.5               3       1  \n",
              "17               1             221.29  25.8               3       1  \n",
              "18               1              89.22  37.8               2       1  \n",
              "19               1             217.08   NaN               0       1  \n",
              "20               0             193.94  22.4               3       1  \n",
              "21               1             233.29  48.9               2       1  \n",
              "22               1             228.70  26.6               2       1  \n",
              "23               0             208.30  32.5               0       1  \n",
              "24               1             102.87  27.2               1       1  \n",
              "25               0             104.12  23.5               2       1  \n",
              "26               0             100.98  28.2               1       1  \n",
              "27               0             189.84   NaN               0       1  \n",
              "28               1             195.23  28.3               3       1  \n",
              "29               0             211.78   NaN               1       1  "
            ],
            "text/html": [
              "\n",
              "  <div id=\"df-18edc00b-f6d9-4269-9269-cb5cc6e743c0\" class=\"colab-df-container\">\n",
              "    <div>\n",
              "<style scoped>\n",
              "    .dataframe tbody tr th:only-of-type {\n",
              "        vertical-align: middle;\n",
              "    }\n",
              "\n",
              "    .dataframe tbody tr th {\n",
              "        vertical-align: top;\n",
              "    }\n",
              "\n",
              "    .dataframe thead th {\n",
              "        text-align: right;\n",
              "    }\n",
              "</style>\n",
              "<table border=\"1\" class=\"dataframe\">\n",
              "  <thead>\n",
              "    <tr style=\"text-align: right;\">\n",
              "      <th></th>\n",
              "      <th>gender</th>\n",
              "      <th>age</th>\n",
              "      <th>hypertension</th>\n",
              "      <th>heart_disease</th>\n",
              "      <th>ever_married</th>\n",
              "      <th>work_type</th>\n",
              "      <th>Residence_type</th>\n",
              "      <th>avg_glucose_level</th>\n",
              "      <th>bmi</th>\n",
              "      <th>smoking_status</th>\n",
              "      <th>stroke</th>\n",
              "    </tr>\n",
              "  </thead>\n",
              "  <tbody>\n",
              "    <tr>\n",
              "      <th>0</th>\n",
              "      <td>1</td>\n",
              "      <td>67.0</td>\n",
              "      <td>0</td>\n",
              "      <td>1</td>\n",
              "      <td>1</td>\n",
              "      <td>2</td>\n",
              "      <td>1</td>\n",
              "      <td>228.69</td>\n",
              "      <td>36.6</td>\n",
              "      <td>1</td>\n",
              "      <td>1</td>\n",
              "    </tr>\n",
              "    <tr>\n",
              "      <th>1</th>\n",
              "      <td>0</td>\n",
              "      <td>61.0</td>\n",
              "      <td>0</td>\n",
              "      <td>0</td>\n",
              "      <td>1</td>\n",
              "      <td>3</td>\n",
              "      <td>0</td>\n",
              "      <td>202.21</td>\n",
              "      <td>NaN</td>\n",
              "      <td>2</td>\n",
              "      <td>1</td>\n",
              "    </tr>\n",
              "    <tr>\n",
              "      <th>2</th>\n",
              "      <td>1</td>\n",
              "      <td>80.0</td>\n",
              "      <td>0</td>\n",
              "      <td>1</td>\n",
              "      <td>1</td>\n",
              "      <td>2</td>\n",
              "      <td>0</td>\n",
              "      <td>105.92</td>\n",
              "      <td>32.5</td>\n",
              "      <td>2</td>\n",
              "      <td>1</td>\n",
              "    </tr>\n",
              "    <tr>\n",
              "      <th>3</th>\n",
              "      <td>0</td>\n",
              "      <td>49.0</td>\n",
              "      <td>0</td>\n",
              "      <td>0</td>\n",
              "      <td>1</td>\n",
              "      <td>2</td>\n",
              "      <td>1</td>\n",
              "      <td>171.23</td>\n",
              "      <td>34.4</td>\n",
              "      <td>3</td>\n",
              "      <td>1</td>\n",
              "    </tr>\n",
              "    <tr>\n",
              "      <th>4</th>\n",
              "      <td>0</td>\n",
              "      <td>79.0</td>\n",
              "      <td>1</td>\n",
              "      <td>0</td>\n",
              "      <td>1</td>\n",
              "      <td>3</td>\n",
              "      <td>0</td>\n",
              "      <td>174.12</td>\n",
              "      <td>24.0</td>\n",
              "      <td>2</td>\n",
              "      <td>1</td>\n",
              "    </tr>\n",
              "    <tr>\n",
              "      <th>5</th>\n",
              "      <td>1</td>\n",
              "      <td>81.0</td>\n",
              "      <td>0</td>\n",
              "      <td>0</td>\n",
              "      <td>1</td>\n",
              "      <td>2</td>\n",
              "      <td>1</td>\n",
              "      <td>186.21</td>\n",
              "      <td>29.0</td>\n",
              "      <td>1</td>\n",
              "      <td>1</td>\n",
              "    </tr>\n",
              "    <tr>\n",
              "      <th>6</th>\n",
              "      <td>1</td>\n",
              "      <td>74.0</td>\n",
              "      <td>1</td>\n",
              "      <td>1</td>\n",
              "      <td>1</td>\n",
              "      <td>2</td>\n",
              "      <td>0</td>\n",
              "      <td>70.09</td>\n",
              "      <td>27.4</td>\n",
              "      <td>2</td>\n",
              "      <td>1</td>\n",
              "    </tr>\n",
              "    <tr>\n",
              "      <th>7</th>\n",
              "      <td>0</td>\n",
              "      <td>69.0</td>\n",
              "      <td>0</td>\n",
              "      <td>0</td>\n",
              "      <td>0</td>\n",
              "      <td>2</td>\n",
              "      <td>1</td>\n",
              "      <td>94.39</td>\n",
              "      <td>22.8</td>\n",
              "      <td>2</td>\n",
              "      <td>1</td>\n",
              "    </tr>\n",
              "    <tr>\n",
              "      <th>8</th>\n",
              "      <td>0</td>\n",
              "      <td>59.0</td>\n",
              "      <td>0</td>\n",
              "      <td>0</td>\n",
              "      <td>1</td>\n",
              "      <td>2</td>\n",
              "      <td>0</td>\n",
              "      <td>76.15</td>\n",
              "      <td>NaN</td>\n",
              "      <td>0</td>\n",
              "      <td>1</td>\n",
              "    </tr>\n",
              "    <tr>\n",
              "      <th>9</th>\n",
              "      <td>0</td>\n",
              "      <td>78.0</td>\n",
              "      <td>0</td>\n",
              "      <td>0</td>\n",
              "      <td>1</td>\n",
              "      <td>2</td>\n",
              "      <td>1</td>\n",
              "      <td>58.57</td>\n",
              "      <td>24.2</td>\n",
              "      <td>0</td>\n",
              "      <td>1</td>\n",
              "    </tr>\n",
              "    <tr>\n",
              "      <th>10</th>\n",
              "      <td>0</td>\n",
              "      <td>81.0</td>\n",
              "      <td>1</td>\n",
              "      <td>0</td>\n",
              "      <td>1</td>\n",
              "      <td>2</td>\n",
              "      <td>0</td>\n",
              "      <td>80.43</td>\n",
              "      <td>29.7</td>\n",
              "      <td>2</td>\n",
              "      <td>1</td>\n",
              "    </tr>\n",
              "    <tr>\n",
              "      <th>11</th>\n",
              "      <td>0</td>\n",
              "      <td>61.0</td>\n",
              "      <td>0</td>\n",
              "      <td>1</td>\n",
              "      <td>1</td>\n",
              "      <td>0</td>\n",
              "      <td>0</td>\n",
              "      <td>120.46</td>\n",
              "      <td>36.8</td>\n",
              "      <td>3</td>\n",
              "      <td>1</td>\n",
              "    </tr>\n",
              "    <tr>\n",
              "      <th>12</th>\n",
              "      <td>0</td>\n",
              "      <td>54.0</td>\n",
              "      <td>0</td>\n",
              "      <td>0</td>\n",
              "      <td>1</td>\n",
              "      <td>2</td>\n",
              "      <td>1</td>\n",
              "      <td>104.51</td>\n",
              "      <td>27.3</td>\n",
              "      <td>3</td>\n",
              "      <td>1</td>\n",
              "    </tr>\n",
              "    <tr>\n",
              "      <th>13</th>\n",
              "      <td>1</td>\n",
              "      <td>78.0</td>\n",
              "      <td>0</td>\n",
              "      <td>1</td>\n",
              "      <td>1</td>\n",
              "      <td>2</td>\n",
              "      <td>1</td>\n",
              "      <td>219.84</td>\n",
              "      <td>NaN</td>\n",
              "      <td>0</td>\n",
              "      <td>1</td>\n",
              "    </tr>\n",
              "    <tr>\n",
              "      <th>14</th>\n",
              "      <td>0</td>\n",
              "      <td>79.0</td>\n",
              "      <td>0</td>\n",
              "      <td>1</td>\n",
              "      <td>1</td>\n",
              "      <td>2</td>\n",
              "      <td>1</td>\n",
              "      <td>214.09</td>\n",
              "      <td>28.2</td>\n",
              "      <td>2</td>\n",
              "      <td>1</td>\n",
              "    </tr>\n",
              "    <tr>\n",
              "      <th>15</th>\n",
              "      <td>0</td>\n",
              "      <td>50.0</td>\n",
              "      <td>1</td>\n",
              "      <td>0</td>\n",
              "      <td>1</td>\n",
              "      <td>3</td>\n",
              "      <td>0</td>\n",
              "      <td>167.41</td>\n",
              "      <td>30.9</td>\n",
              "      <td>2</td>\n",
              "      <td>1</td>\n",
              "    </tr>\n",
              "    <tr>\n",
              "      <th>16</th>\n",
              "      <td>1</td>\n",
              "      <td>64.0</td>\n",
              "      <td>0</td>\n",
              "      <td>1</td>\n",
              "      <td>1</td>\n",
              "      <td>2</td>\n",
              "      <td>1</td>\n",
              "      <td>191.61</td>\n",
              "      <td>37.5</td>\n",
              "      <td>3</td>\n",
              "      <td>1</td>\n",
              "    </tr>\n",
              "    <tr>\n",
              "      <th>17</th>\n",
              "      <td>1</td>\n",
              "      <td>75.0</td>\n",
              "      <td>1</td>\n",
              "      <td>0</td>\n",
              "      <td>1</td>\n",
              "      <td>2</td>\n",
              "      <td>1</td>\n",
              "      <td>221.29</td>\n",
              "      <td>25.8</td>\n",
              "      <td>3</td>\n",
              "      <td>1</td>\n",
              "    </tr>\n",
              "    <tr>\n",
              "      <th>18</th>\n",
              "      <td>0</td>\n",
              "      <td>60.0</td>\n",
              "      <td>0</td>\n",
              "      <td>0</td>\n",
              "      <td>0</td>\n",
              "      <td>2</td>\n",
              "      <td>1</td>\n",
              "      <td>89.22</td>\n",
              "      <td>37.8</td>\n",
              "      <td>2</td>\n",
              "      <td>1</td>\n",
              "    </tr>\n",
              "    <tr>\n",
              "      <th>19</th>\n",
              "      <td>1</td>\n",
              "      <td>57.0</td>\n",
              "      <td>0</td>\n",
              "      <td>1</td>\n",
              "      <td>0</td>\n",
              "      <td>0</td>\n",
              "      <td>1</td>\n",
              "      <td>217.08</td>\n",
              "      <td>NaN</td>\n",
              "      <td>0</td>\n",
              "      <td>1</td>\n",
              "    </tr>\n",
              "    <tr>\n",
              "      <th>20</th>\n",
              "      <td>0</td>\n",
              "      <td>71.0</td>\n",
              "      <td>0</td>\n",
              "      <td>0</td>\n",
              "      <td>1</td>\n",
              "      <td>0</td>\n",
              "      <td>0</td>\n",
              "      <td>193.94</td>\n",
              "      <td>22.4</td>\n",
              "      <td>3</td>\n",
              "      <td>1</td>\n",
              "    </tr>\n",
              "    <tr>\n",
              "      <th>21</th>\n",
              "      <td>0</td>\n",
              "      <td>52.0</td>\n",
              "      <td>1</td>\n",
              "      <td>0</td>\n",
              "      <td>1</td>\n",
              "      <td>3</td>\n",
              "      <td>1</td>\n",
              "      <td>233.29</td>\n",
              "      <td>48.9</td>\n",
              "      <td>2</td>\n",
              "      <td>1</td>\n",
              "    </tr>\n",
              "    <tr>\n",
              "      <th>22</th>\n",
              "      <td>0</td>\n",
              "      <td>79.0</td>\n",
              "      <td>0</td>\n",
              "      <td>0</td>\n",
              "      <td>1</td>\n",
              "      <td>3</td>\n",
              "      <td>1</td>\n",
              "      <td>228.70</td>\n",
              "      <td>26.6</td>\n",
              "      <td>2</td>\n",
              "      <td>1</td>\n",
              "    </tr>\n",
              "    <tr>\n",
              "      <th>23</th>\n",
              "      <td>1</td>\n",
              "      <td>82.0</td>\n",
              "      <td>0</td>\n",
              "      <td>1</td>\n",
              "      <td>1</td>\n",
              "      <td>2</td>\n",
              "      <td>0</td>\n",
              "      <td>208.30</td>\n",
              "      <td>32.5</td>\n",
              "      <td>0</td>\n",
              "      <td>1</td>\n",
              "    </tr>\n",
              "    <tr>\n",
              "      <th>24</th>\n",
              "      <td>1</td>\n",
              "      <td>71.0</td>\n",
              "      <td>0</td>\n",
              "      <td>0</td>\n",
              "      <td>1</td>\n",
              "      <td>2</td>\n",
              "      <td>1</td>\n",
              "      <td>102.87</td>\n",
              "      <td>27.2</td>\n",
              "      <td>1</td>\n",
              "      <td>1</td>\n",
              "    </tr>\n",
              "    <tr>\n",
              "      <th>25</th>\n",
              "      <td>1</td>\n",
              "      <td>80.0</td>\n",
              "      <td>0</td>\n",
              "      <td>0</td>\n",
              "      <td>1</td>\n",
              "      <td>3</td>\n",
              "      <td>0</td>\n",
              "      <td>104.12</td>\n",
              "      <td>23.5</td>\n",
              "      <td>2</td>\n",
              "      <td>1</td>\n",
              "    </tr>\n",
              "    <tr>\n",
              "      <th>26</th>\n",
              "      <td>0</td>\n",
              "      <td>65.0</td>\n",
              "      <td>0</td>\n",
              "      <td>0</td>\n",
              "      <td>1</td>\n",
              "      <td>2</td>\n",
              "      <td>0</td>\n",
              "      <td>100.98</td>\n",
              "      <td>28.2</td>\n",
              "      <td>1</td>\n",
              "      <td>1</td>\n",
              "    </tr>\n",
              "    <tr>\n",
              "      <th>27</th>\n",
              "      <td>1</td>\n",
              "      <td>58.0</td>\n",
              "      <td>0</td>\n",
              "      <td>0</td>\n",
              "      <td>1</td>\n",
              "      <td>2</td>\n",
              "      <td>0</td>\n",
              "      <td>189.84</td>\n",
              "      <td>NaN</td>\n",
              "      <td>0</td>\n",
              "      <td>1</td>\n",
              "    </tr>\n",
              "    <tr>\n",
              "      <th>28</th>\n",
              "      <td>1</td>\n",
              "      <td>69.0</td>\n",
              "      <td>0</td>\n",
              "      <td>1</td>\n",
              "      <td>1</td>\n",
              "      <td>3</td>\n",
              "      <td>1</td>\n",
              "      <td>195.23</td>\n",
              "      <td>28.3</td>\n",
              "      <td>3</td>\n",
              "      <td>1</td>\n",
              "    </tr>\n",
              "    <tr>\n",
              "      <th>29</th>\n",
              "      <td>1</td>\n",
              "      <td>59.0</td>\n",
              "      <td>0</td>\n",
              "      <td>0</td>\n",
              "      <td>1</td>\n",
              "      <td>2</td>\n",
              "      <td>0</td>\n",
              "      <td>211.78</td>\n",
              "      <td>NaN</td>\n",
              "      <td>1</td>\n",
              "      <td>1</td>\n",
              "    </tr>\n",
              "  </tbody>\n",
              "</table>\n",
              "</div>\n",
              "    <div class=\"colab-df-buttons\">\n",
              "\n",
              "  <div class=\"colab-df-container\">\n",
              "    <button class=\"colab-df-convert\" onclick=\"convertToInteractive('df-18edc00b-f6d9-4269-9269-cb5cc6e743c0')\"\n",
              "            title=\"Convert this dataframe to an interactive table.\"\n",
              "            style=\"display:none;\">\n",
              "\n",
              "  <svg xmlns=\"http://www.w3.org/2000/svg\" height=\"24px\" viewBox=\"0 -960 960 960\">\n",
              "    <path d=\"M120-120v-720h720v720H120Zm60-500h600v-160H180v160Zm220 220h160v-160H400v160Zm0 220h160v-160H400v160ZM180-400h160v-160H180v160Zm440 0h160v-160H620v160ZM180-180h160v-160H180v160Zm440 0h160v-160H620v160Z\"/>\n",
              "  </svg>\n",
              "    </button>\n",
              "\n",
              "  <style>\n",
              "    .colab-df-container {\n",
              "      display:flex;\n",
              "      gap: 12px;\n",
              "    }\n",
              "\n",
              "    .colab-df-convert {\n",
              "      background-color: #E8F0FE;\n",
              "      border: none;\n",
              "      border-radius: 50%;\n",
              "      cursor: pointer;\n",
              "      display: none;\n",
              "      fill: #1967D2;\n",
              "      height: 32px;\n",
              "      padding: 0 0 0 0;\n",
              "      width: 32px;\n",
              "    }\n",
              "\n",
              "    .colab-df-convert:hover {\n",
              "      background-color: #E2EBFA;\n",
              "      box-shadow: 0px 1px 2px rgba(60, 64, 67, 0.3), 0px 1px 3px 1px rgba(60, 64, 67, 0.15);\n",
              "      fill: #174EA6;\n",
              "    }\n",
              "\n",
              "    .colab-df-buttons div {\n",
              "      margin-bottom: 4px;\n",
              "    }\n",
              "\n",
              "    [theme=dark] .colab-df-convert {\n",
              "      background-color: #3B4455;\n",
              "      fill: #D2E3FC;\n",
              "    }\n",
              "\n",
              "    [theme=dark] .colab-df-convert:hover {\n",
              "      background-color: #434B5C;\n",
              "      box-shadow: 0px 1px 3px 1px rgba(0, 0, 0, 0.15);\n",
              "      filter: drop-shadow(0px 1px 2px rgba(0, 0, 0, 0.3));\n",
              "      fill: #FFFFFF;\n",
              "    }\n",
              "  </style>\n",
              "\n",
              "    <script>\n",
              "      const buttonEl =\n",
              "        document.querySelector('#df-18edc00b-f6d9-4269-9269-cb5cc6e743c0 button.colab-df-convert');\n",
              "      buttonEl.style.display =\n",
              "        google.colab.kernel.accessAllowed ? 'block' : 'none';\n",
              "\n",
              "      async function convertToInteractive(key) {\n",
              "        const element = document.querySelector('#df-18edc00b-f6d9-4269-9269-cb5cc6e743c0');\n",
              "        const dataTable =\n",
              "          await google.colab.kernel.invokeFunction('convertToInteractive',\n",
              "                                                    [key], {});\n",
              "        if (!dataTable) return;\n",
              "\n",
              "        const docLinkHtml = 'Like what you see? Visit the ' +\n",
              "          '<a target=\"_blank\" href=https://colab.research.google.com/notebooks/data_table.ipynb>data table notebook</a>'\n",
              "          + ' to learn more about interactive tables.';\n",
              "        element.innerHTML = '';\n",
              "        dataTable['output_type'] = 'display_data';\n",
              "        await google.colab.output.renderOutput(dataTable, element);\n",
              "        const docLink = document.createElement('div');\n",
              "        docLink.innerHTML = docLinkHtml;\n",
              "        element.appendChild(docLink);\n",
              "      }\n",
              "    </script>\n",
              "  </div>\n",
              "\n",
              "\n",
              "<div id=\"df-f2a298f3-f8cc-42de-bdb8-177820bcad66\">\n",
              "  <button class=\"colab-df-quickchart\" onclick=\"quickchart('df-f2a298f3-f8cc-42de-bdb8-177820bcad66')\"\n",
              "            title=\"Suggest charts\"\n",
              "            style=\"display:none;\">\n",
              "\n",
              "<svg xmlns=\"http://www.w3.org/2000/svg\" height=\"24px\"viewBox=\"0 0 24 24\"\n",
              "     width=\"24px\">\n",
              "    <g>\n",
              "        <path d=\"M19 3H5c-1.1 0-2 .9-2 2v14c0 1.1.9 2 2 2h14c1.1 0 2-.9 2-2V5c0-1.1-.9-2-2-2zM9 17H7v-7h2v7zm4 0h-2V7h2v10zm4 0h-2v-4h2v4z\"/>\n",
              "    </g>\n",
              "</svg>\n",
              "  </button>\n",
              "\n",
              "<style>\n",
              "  .colab-df-quickchart {\n",
              "      --bg-color: #E8F0FE;\n",
              "      --fill-color: #1967D2;\n",
              "      --hover-bg-color: #E2EBFA;\n",
              "      --hover-fill-color: #174EA6;\n",
              "      --disabled-fill-color: #AAA;\n",
              "      --disabled-bg-color: #DDD;\n",
              "  }\n",
              "\n",
              "  [theme=dark] .colab-df-quickchart {\n",
              "      --bg-color: #3B4455;\n",
              "      --fill-color: #D2E3FC;\n",
              "      --hover-bg-color: #434B5C;\n",
              "      --hover-fill-color: #FFFFFF;\n",
              "      --disabled-bg-color: #3B4455;\n",
              "      --disabled-fill-color: #666;\n",
              "  }\n",
              "\n",
              "  .colab-df-quickchart {\n",
              "    background-color: var(--bg-color);\n",
              "    border: none;\n",
              "    border-radius: 50%;\n",
              "    cursor: pointer;\n",
              "    display: none;\n",
              "    fill: var(--fill-color);\n",
              "    height: 32px;\n",
              "    padding: 0;\n",
              "    width: 32px;\n",
              "  }\n",
              "\n",
              "  .colab-df-quickchart:hover {\n",
              "    background-color: var(--hover-bg-color);\n",
              "    box-shadow: 0 1px 2px rgba(60, 64, 67, 0.3), 0 1px 3px 1px rgba(60, 64, 67, 0.15);\n",
              "    fill: var(--button-hover-fill-color);\n",
              "  }\n",
              "\n",
              "  .colab-df-quickchart-complete:disabled,\n",
              "  .colab-df-quickchart-complete:disabled:hover {\n",
              "    background-color: var(--disabled-bg-color);\n",
              "    fill: var(--disabled-fill-color);\n",
              "    box-shadow: none;\n",
              "  }\n",
              "\n",
              "  .colab-df-spinner {\n",
              "    border: 2px solid var(--fill-color);\n",
              "    border-color: transparent;\n",
              "    border-bottom-color: var(--fill-color);\n",
              "    animation:\n",
              "      spin 1s steps(1) infinite;\n",
              "  }\n",
              "\n",
              "  @keyframes spin {\n",
              "    0% {\n",
              "      border-color: transparent;\n",
              "      border-bottom-color: var(--fill-color);\n",
              "      border-left-color: var(--fill-color);\n",
              "    }\n",
              "    20% {\n",
              "      border-color: transparent;\n",
              "      border-left-color: var(--fill-color);\n",
              "      border-top-color: var(--fill-color);\n",
              "    }\n",
              "    30% {\n",
              "      border-color: transparent;\n",
              "      border-left-color: var(--fill-color);\n",
              "      border-top-color: var(--fill-color);\n",
              "      border-right-color: var(--fill-color);\n",
              "    }\n",
              "    40% {\n",
              "      border-color: transparent;\n",
              "      border-right-color: var(--fill-color);\n",
              "      border-top-color: var(--fill-color);\n",
              "    }\n",
              "    60% {\n",
              "      border-color: transparent;\n",
              "      border-right-color: var(--fill-color);\n",
              "    }\n",
              "    80% {\n",
              "      border-color: transparent;\n",
              "      border-right-color: var(--fill-color);\n",
              "      border-bottom-color: var(--fill-color);\n",
              "    }\n",
              "    90% {\n",
              "      border-color: transparent;\n",
              "      border-bottom-color: var(--fill-color);\n",
              "    }\n",
              "  }\n",
              "</style>\n",
              "\n",
              "  <script>\n",
              "    async function quickchart(key) {\n",
              "      const quickchartButtonEl =\n",
              "        document.querySelector('#' + key + ' button');\n",
              "      quickchartButtonEl.disabled = true;  // To prevent multiple clicks.\n",
              "      quickchartButtonEl.classList.add('colab-df-spinner');\n",
              "      try {\n",
              "        const charts = await google.colab.kernel.invokeFunction(\n",
              "            'suggestCharts', [key], {});\n",
              "      } catch (error) {\n",
              "        console.error('Error during call to suggestCharts:', error);\n",
              "      }\n",
              "      quickchartButtonEl.classList.remove('colab-df-spinner');\n",
              "      quickchartButtonEl.classList.add('colab-df-quickchart-complete');\n",
              "    }\n",
              "    (() => {\n",
              "      let quickchartButtonEl =\n",
              "        document.querySelector('#df-f2a298f3-f8cc-42de-bdb8-177820bcad66 button');\n",
              "      quickchartButtonEl.style.display =\n",
              "        google.colab.kernel.accessAllowed ? 'block' : 'none';\n",
              "    })();\n",
              "  </script>\n",
              "</div>\n",
              "\n",
              "    </div>\n",
              "  </div>\n"
            ],
            "application/vnd.google.colaboratory.intrinsic+json": {
              "type": "dataframe",
              "summary": "{\n  \"name\": \"en_df\",\n  \"rows\": 30,\n  \"fields\": [\n    {\n      \"column\": \"gender\",\n      \"properties\": {\n        \"dtype\": \"number\",\n        \"std\": 0,\n        \"min\": 0,\n        \"max\": 1,\n        \"num_unique_values\": 2,\n        \"samples\": [\n          0,\n          1\n        ],\n        \"semantic_type\": \"\",\n        \"description\": \"\"\n      }\n    },\n    {\n      \"column\": \"age\",\n      \"properties\": {\n        \"dtype\": \"number\",\n        \"std\": 10.50101254012279,\n        \"min\": 49.0,\n        \"max\": 82.0,\n        \"num_unique_values\": 21,\n        \"samples\": [\n          67.0,\n          52.0\n        ],\n        \"semantic_type\": \"\",\n        \"description\": \"\"\n      }\n    },\n    {\n      \"column\": \"hypertension\",\n      \"properties\": {\n        \"dtype\": \"number\",\n        \"std\": 0,\n        \"min\": 0,\n        \"max\": 1,\n        \"num_unique_values\": 2,\n        \"samples\": [\n          1,\n          0\n        ],\n        \"semantic_type\": \"\",\n        \"description\": \"\"\n      }\n    },\n    {\n      \"column\": \"heart_disease\",\n      \"properties\": {\n        \"dtype\": \"number\",\n        \"std\": 0,\n        \"min\": 0,\n        \"max\": 1,\n        \"num_unique_values\": 2,\n        \"samples\": [\n          0,\n          1\n        ],\n        \"semantic_type\": \"\",\n        \"description\": \"\"\n      }\n    },\n    {\n      \"column\": \"ever_married\",\n      \"properties\": {\n        \"dtype\": \"number\",\n        \"std\": 0,\n        \"min\": 0,\n        \"max\": 1,\n        \"num_unique_values\": 2,\n        \"samples\": [\n          0,\n          1\n        ],\n        \"semantic_type\": \"\",\n        \"description\": \"\"\n      }\n    },\n    {\n      \"column\": \"work_type\",\n      \"properties\": {\n        \"dtype\": \"number\",\n        \"std\": 0,\n        \"min\": 0,\n        \"max\": 3,\n        \"num_unique_values\": 3,\n        \"samples\": [\n          2,\n          3\n        ],\n        \"semantic_type\": \"\",\n        \"description\": \"\"\n      }\n    },\n    {\n      \"column\": \"Residence_type\",\n      \"properties\": {\n        \"dtype\": \"number\",\n        \"std\": 0,\n        \"min\": 0,\n        \"max\": 1,\n        \"num_unique_values\": 2,\n        \"samples\": [\n          0,\n          1\n        ],\n        \"semantic_type\": \"\",\n        \"description\": \"\"\n      }\n    },\n    {\n      \"column\": \"avg_glucose_level\",\n      \"properties\": {\n        \"dtype\": \"number\",\n        \"std\": 58.40263962405698,\n        \"min\": 58.57,\n        \"max\": 233.29,\n        \"num_unique_values\": 30,\n        \"samples\": [\n          189.84,\n          167.41\n        ],\n        \"semantic_type\": \"\",\n        \"description\": \"\"\n      }\n    },\n    {\n      \"column\": \"bmi\",\n      \"properties\": {\n        \"dtype\": \"number\",\n        \"std\": 6.183953931901826,\n        \"min\": 22.4,\n        \"max\": 48.9,\n        \"num_unique_values\": 22,\n        \"samples\": [\n          36.6,\n          37.5\n        ],\n        \"semantic_type\": \"\",\n        \"description\": \"\"\n      }\n    },\n    {\n      \"column\": \"smoking_status\",\n      \"properties\": {\n        \"dtype\": \"number\",\n        \"std\": 1,\n        \"min\": 0,\n        \"max\": 3,\n        \"num_unique_values\": 4,\n        \"samples\": [\n          2,\n          0\n        ],\n        \"semantic_type\": \"\",\n        \"description\": \"\"\n      }\n    },\n    {\n      \"column\": \"stroke\",\n      \"properties\": {\n        \"dtype\": \"number\",\n        \"std\": 0,\n        \"min\": 1,\n        \"max\": 1,\n        \"num_unique_values\": 1,\n        \"samples\": [\n          1\n        ],\n        \"semantic_type\": \"\",\n        \"description\": \"\"\n      }\n    }\n  ]\n}"
            }
          },
          "metadata": {},
          "execution_count": 30
        }
      ]
    },
    {
      "cell_type": "code",
      "source": [
        "#8 เอาไว้แก้ไข option ในการแสดงข้อมูลเสย ๆ\n",
        "pd.set_option('display.max_rows', None)\n",
        "pd.set_option('display.max_columns', None)"
      ],
      "metadata": {
        "id": "ejb53wAI5H3p"
      },
      "execution_count": null,
      "outputs": []
    },
    {
      "cell_type": "markdown",
      "source": [
        "**![3c85feecb4eb52a4d69ef0891cfbc495a1da7174.png](data:image/png;base64,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)**\n",
        "\n",
        "\n",
        "\n",
        "# EDA\n"
      ],
      "metadata": {
        "id": "qk9Fquofzb3a"
      }
    },
    {
      "cell_type": "markdown",
      "source": [
        "# จำนวนคนเกิด Stroke"
      ],
      "metadata": {
        "id": "gP7kwyUL8c4o"
      }
    },
    {
      "cell_type": "code",
      "source": [
        "#9 นับจำนวนคนที่มี stroke = 1\n",
        "stroke_count = df[df['stroke'] == 1].shape[0]\n",
        "\n",
        "print(f\"จำนวนคนที่มี stroke = 1 (เกิด Stroke) มีทั้งหมด {stroke_count} คน\")\n",
        "\n"
      ],
      "metadata": {
        "colab": {
          "base_uri": "https://localhost:8080/"
        },
        "id": "wOJhbczDT8hh",
        "outputId": "30037aff-1582-4905-d837-028975a878d3"
      },
      "execution_count": null,
      "outputs": [
        {
          "output_type": "stream",
          "name": "stdout",
          "text": [
            "จำนวนคนที่มี stroke = 1 (เกิด Stroke) มีทั้งหมด 249 คน\n"
          ]
        }
      ]
    },
    {
      "cell_type": "code",
      "source": [
        "#10\n",
        "labels =df['stroke'].value_counts(sort = True).index\n",
        "sizes = df['stroke'].value_counts(sort = True)\n",
        "\n",
        "colors = [\"lightblue\",\"pink\"]\n",
        "explode = (0.05,0)\n",
        "\n",
        "plt.figure(figsize=(7,7))\n",
        "plt.pie(sizes, explode=explode, labels=labels, colors=colors, autopct='%1.1f%%', shadow=True, startangle=90,)\n",
        "\n",
        "plt.title('Number of stroke in the dataset')\n",
        "plt.show()\n",
        "\n",
        "## (249*100)/5110 = 4.87 ประมาณ 4.9"
      ],
      "metadata": {
        "colab": {
          "base_uri": "https://localhost:8080/"
        },
        "id": "xopcHXm67NrR",
        "outputId": "08601395-9d63-43dd-b4fe-3282c02f28a5"
      },
      "execution_count": null,
      "outputs": [
        {
          "output_type": "display_data",
          "data": {
            "text/plain": [
              "<Figure size 700x700 with 1 Axes>"
            ],
            "image/png": "[encoded data removed]"
          },
          "metadata": {}
        }
      ]
    },
    {
      "cell_type": "markdown",
      "source": [
        "### **Histogram** of BMI , Age , Avg Glucose Level\n",
        "\n"
      ],
      "metadata": {
        "id": "kUFmPb44s_FK"
      }
    },
    {
      "cell_type": "code",
      "source": [
        "#11\n",
        "def plot_hist(col, bins=30, title=\"\",xlabel=\"\",ax=None):\n",
        "    sns.histplot(col, bins=bins,ax=ax)\n",
        "    ax.set_title(f'Histogram of {title}',fontsize=20)\n",
        "    ax.set_xlabel(xlabel)"
      ],
      "metadata": {
        "id": "hNE5EUtWzeIO"
      },
      "execution_count": null,
      "outputs": []
    },
    {
      "cell_type": "code",
      "source": [
        "#12\n",
        "fig, axes = plt.subplots(1,3,figsize=(11,7),constrained_layout=True)\n",
        "plot_hist(df.bmi,\n",
        "          title='Bmi',\n",
        "          xlabel=\"Level of the BMI\",\n",
        "          ax=axes[0])\n",
        "plot_hist(df.age,\n",
        "          bins=30,\n",
        "          title='Age',\n",
        "          xlabel='Age',\n",
        "          ax=axes[1])\n",
        "plot_hist(df.avg_glucose_level,\n",
        "          title='Avg Glucose Level',\n",
        "          xlabel='Level of Average Glucose Level (mg/dL)',\n",
        "          ax=axes[2])\n",
        "\n",
        "plt.show()"
      ],
      "metadata": {
        "colab": {
          "base_uri": "https://localhost:8080/"
        },
        "id": "0-gAJOhp0F3b",
        "outputId": "0b19ab22-371e-4b9b-f414-3f941db060fd"
      },
      "execution_count": null,
      "outputs": [
        {
          "output_type": "display_data",
          "data": {
            "text/plain": [
              "<Figure size 1100x700 with 3 Axes>"
            ],
            "image/png": "[encoded data removed]"
          },
          "metadata": {}
        }
      ]
    },
    {
      "cell_type": "markdown",
      "source": [
        "#**Categorical plot ของ Work type ออกมาเพื่อดูว่า อาชีพไหนมีการเกิด Stroke มากกว่ากัน**\n",
        "\n",
        "# จะเห็นได้ว่า work_type\n",
        "- 0 คือ children เกิด stroke 33 คน\n",
        "- 1 คือ never_worked เกิด stroke 0 คน\n",
        "- 2 คือ Private เกิด stroke 149 คน\n",
        "- 3 คือ Self_employed เกิด stroke 65 คน\n",
        "- 4 คือ Govt_job เกิด stroke 2 คน\n",
        "\n",
        "เมื่อรวมการเกิด Stroke ทั้งหมด คือ 249 คน"
      ],
      "metadata": {
        "id": "U9VmT97DMdXS"
      }
    },
    {
      "cell_type": "code",
      "source": [
        "#13 นับจำนวนและแสดงลักษณะ\n",
        "work_type_counts = df['work_type'].value_counts()\n",
        "\n",
        "# แสดงผล\n",
        "for work_type, count in work_type_counts.items():\n",
        "    print(f'อาชีพ: {work_type}, จำนวน: {count} คน')\n",
        "\n",
        "    #0=children\n",
        "    #1=never_worked\n",
        "    #2=Private\n",
        "    #3=Self_employed\n",
        "    #4=Govt_job\n"
      ],
      "metadata": {
        "colab": {
          "base_uri": "https://localhost:8080/"
        },
        "id": "QmJ4C97SwNzJ",
        "outputId": "c8514fb6-b5d4-4411-83d1-7324815e309d"
      },
      "execution_count": null,
      "outputs": [
        {
          "output_type": "stream",
          "name": "stdout",
          "text": [
            "อาชีพ: Private, จำนวน: 2925 คน\n",
            "อาชีพ: Self-employed, จำนวน: 819 คน\n",
            "อาชีพ: children, จำนวน: 687 คน\n",
            "อาชีพ: Govt_job, จำนวน: 657 คน\n",
            "อาชีพ: Never_worked, จำนวน: 22 คน\n"
          ]
        }
      ]
    },
    {
      "cell_type": "code",
      "source": [
        "#14 นับจำนวน stroke ตาม work_type\n",
        "stroke_df = df[df['stroke'] == 1]\n",
        "\n",
        "\n",
        "stroke_by_work_type = stroke_df.groupby('work_type').size().reset_index(name='stroke_count')\n",
        "\n",
        "print(stroke_by_work_type)\n"
      ],
      "metadata": {
        "colab": {
          "base_uri": "https://localhost:8080/"
        },
        "id": "FlZrxJphMKID",
        "outputId": "cf77b517-4fe1-4cea-e25a-a147712c7886"
      },
      "execution_count": null,
      "outputs": [
        {
          "output_type": "stream",
          "name": "stdout",
          "text": [
            "       work_type  stroke_count\n",
            "0       Govt_job            33\n",
            "1        Private           149\n",
            "2  Self-employed            65\n",
            "3       children             2\n"
          ]
        }
      ]
    },
    {
      "cell_type": "code",
      "source": [
        "#15\n",
        "sns.catplot(x=\"work_type\", hue=\"stroke\", kind=\"count\",palette=\"pastel\", edgecolor=\".7\",data=df)"
      ],
      "metadata": {
        "colab": {
          "base_uri": "https://localhost:8080/"
        },
        "id": "ghjxAngMEOhj",
        "outputId": "f0925362-68a0-4aa5-9130-480190f4215e"
      },
      "execution_count": null,
      "outputs": [
        {
          "output_type": "execute_result",
          "data": {
            "text/plain": [
              "<seaborn.axisgrid.FacetGrid at 0x7965ef7b2fb0>"
            ]
          },
          "metadata": {},
          "execution_count": 38
        },
        {
          "output_type": "display_data",
          "data": {
            "text/plain": [
              "<Figure size 558.875x500 with 1 Axes>"
            ],
            "image/png": "[encoded data removed]"
          },
          "metadata": {}
        }
      ]
    },
    {
      "cell_type": "markdown",
      "source": [
        "# **Categorical plot ของ Smoking Status ออกมาเพื่อดูว่า การสูบบุหรี่มีผลต่อการเกิด Stroke หรือไม่**\n",
        "Encoding\n",
        "\n",
        "0 = unknown\n",
        "\n",
        "1 = formerly smoked (เคยสูบบุหรี่)\n",
        "\n",
        "2 = never smoked (ไม่เคยสูบบุหรี่)\n",
        "\n",
        "3 = smokes (สูบเป็นกิจวัตร)\n",
        "\n",
        "**จะเห็นได้ว่า**\n",
        "- บุหรี่ไม่น่าจะเกี่ยวอะไรกันกับ Stroke มากนัก เนื่องจากว่ามีอัตราการเกิด Stroke เท่า ๆ กัน"
      ],
      "metadata": {
        "id": "-DCBKU5EUseo"
      }
    },
    {
      "cell_type": "code",
      "source": [
        "#16\n",
        "sns.catplot(x=\"smoking_status\", hue=\"stroke\", kind=\"count\",palette=\"pastel\", edgecolor=\".7\",data=df)"
      ],
      "metadata": {
        "colab": {
          "base_uri": "https://localhost:8080/"
        },
        "id": "9mkzrIbFN9vy",
        "outputId": "2e03a9b9-45d3-43ef-acee-d5cf747b7aea"
      },
      "execution_count": null,
      "outputs": [
        {
          "output_type": "execute_result",
          "data": {
            "text/plain": [
              "<seaborn.axisgrid.FacetGrid at 0x7965f023e620>"
            ]
          },
          "metadata": {},
          "execution_count": 39
        },
        {
          "output_type": "display_data",
          "data": {
            "text/plain": [
              "<Figure size 558.875x500 with 1 Axes>"
            ],
            "image/png": "[encoded data removed]"
          },
          "metadata": {}
        }
      ]
    },
    {
      "cell_type": "markdown",
      "source": [
        "# Categorical plot เพื่อแสดงค่าของ gender(เพศ)และ Stroke เมื่อเปรัยบเทียบกับ heart_disease(โรคหัวใจ), residence_type(ภูมิลำเนาที่อยู่) และ hypertension(โรคความดัน)\n",
        "จะสังเกตุเห็นได้ว่า\n",
        "- เพศ ไม่น่าจะเกี่ยวกับ Stroke\n",
        "- เพศชายและหญิงมีอัตราการเกิดโรคหัวใจใกล้เคียงกัน\n",
        "- Hypertension (โรคความดันสูง) โรคความดันสูงมีแนวโน้มส่งเสริมให้เกิด Stroke\n",
        "- Heart disease (โรคหัวใจ) โรคหัวใจมีแนวโน้มส่งเสริมให้เกิด Stroke\n",
        "\n",
        "\n",
        "***- อาจพิจารณาได้ว่าโรคความดันสูงและโรคหัวใจเป็นสิ่งที่ส่งเสริมให้เกิด Stroke***"
      ],
      "metadata": {
        "id": "_A9IRkaRiZ7W"
      }
    },
    {
      "cell_type": "code",
      "source": [
        "#17\n",
        "fig, axes = plt.subplots(1,1, figsize=(8, 5))\n",
        "\n",
        "sns.barplot(x=\"gender\", y=\"stroke\", hue=\"heart_disease\", palette=\"pastel\", data=df)"
      ],
      "metadata": {
        "colab": {
          "base_uri": "https://localhost:8080/"
        },
        "id": "DCpRW5eTnap0",
        "outputId": "77206973-8739-4e7b-829e-d93e747ab296"
      },
      "execution_count": null,
      "outputs": [
        {
          "output_type": "execute_result",
          "data": {
            "text/plain": [
              "<Axes: xlabel='gender', ylabel='stroke'>"
            ]
          },
          "metadata": {},
          "execution_count": 40
        },
        {
          "output_type": "display_data",
          "data": {
            "text/plain": [
              "<Figure size 800x500 with 1 Axes>"
            ],
            "image/png": "[encoded data removed]"
          },
          "metadata": {}
        }
      ]
    },
    {
      "cell_type": "code",
      "source": [
        "#18\n",
        "fig, axes = plt.subplots(1,1, figsize=(8, 5))\n",
        "\n",
        "sns.barplot(x=\"gender\", y=\"stroke\", hue=\"heart_disease\", palette=\"pastel\", data=df)\n",
        "# sns.barplot(ax=axes[1], x=\"gender\", y=\"stroke\", hue=\"Residence_type\", palette=\"pastel\", data=df)\n",
        "# sns.barplot(ax=axes[2], x=\"gender\", y=\"stroke\", hue=\"hypertension\", palette=\"pastel\", data=df)\n",
        "\n",
        "plt.show()\n"
      ],
      "metadata": {
        "colab": {
          "base_uri": "https://localhost:8080/"
        },
        "id": "tW3FCDSuiY2Q",
        "outputId": "8e4a543b-9dfb-4027-8d57-b0ab0e59d8ea"
      },
      "execution_count": null,
      "outputs": [
        {
          "output_type": "display_data",
          "data": {
            "text/plain": [
              "<Figure size 800x500 with 1 Axes>"
            ],
            "image/png": "[encoded data removed]"
          },
          "metadata": {}
        }
      ]
    },
    {
      "cell_type": "code",
      "source": [
        "#19\n",
        "fig, axes = plt.subplots(1,1, figsize=(8, 5))\n",
        "sns.barplot( x=\"gender\", y=\"stroke\", hue=\"Residence_type\", palette=\"pastel\", data=df)"
      ],
      "metadata": {
        "colab": {
          "base_uri": "https://localhost:8080/"
        },
        "id": "l-7MEI-2y2SM",
        "outputId": "bb92dbfa-b936-4785-f7f1-731013c5e036"
      },
      "execution_count": null,
      "outputs": [
        {
          "output_type": "execute_result",
          "data": {
            "text/plain": [
              "<Axes: xlabel='gender', ylabel='stroke'>"
            ]
          },
          "metadata": {},
          "execution_count": 42
        },
        {
          "output_type": "display_data",
          "data": {
            "text/plain": [
              "<Figure size 800x500 with 1 Axes>"
            ],
            "image/png": "[encoded data removed]"
          },
          "metadata": {}
        }
      ]
    },
    {
      "cell_type": "code",
      "source": [
        "#20\n",
        "fig, axes = plt.subplots(1,1, figsize=(8, 5))\n",
        "sns.barplot( x=\"gender\", y=\"stroke\", hue=\"hypertension\", palette=\"pastel\", data=df)"
      ],
      "metadata": {
        "colab": {
          "base_uri": "https://localhost:8080/"
        },
        "id": "VibUXSEVzBE-",
        "outputId": "16e69a92-711b-4ae9-cc4c-65c76e93d441"
      },
      "execution_count": null,
      "outputs": [
        {
          "output_type": "execute_result",
          "data": {
            "text/plain": [
              "<Axes: xlabel='gender', ylabel='stroke'>"
            ]
          },
          "metadata": {},
          "execution_count": 43
        },
        {
          "output_type": "display_data",
          "data": {
            "text/plain": [
              "<Figure size 800x500 with 1 Axes>"
            ],
            "image/png": "[encoded data removed]"
          },
          "metadata": {}
        }
      ]
    },
    {
      "cell_type": "code",
      "source": [
        "#21\n",
        "df.columns"
      ],
      "metadata": {
        "colab": {
          "base_uri": "https://localhost:8080/"
        },
        "id": "VhvHGtgC4UO1",
        "outputId": "d8f50e89-7edd-4ff1-c5ed-2d53dddf06b4"
      },
      "execution_count": null,
      "outputs": [
        {
          "output_type": "execute_result",
          "data": {
            "text/plain": [
              "Index(['gender', 'age', 'hypertension', 'heart_disease', 'ever_married',\n",
              "       'work_type', 'Residence_type', 'avg_glucose_level', 'bmi',\n",
              "       'smoking_status', 'stroke'],\n",
              "      dtype='object')"
            ]
          },
          "metadata": {},
          "execution_count": 44
        }
      ]
    },
    {
      "cell_type": "code",
      "source": [
        "#22\n",
        "sns.heatmap(df.corr());"
      ],
      "metadata": {
        "colab": {
          "base_uri": "https://localhost:8080/"
        },
        "id": "kJXrzXCJ5q1J",
        "outputId": "b40540cd-3908-47cb-8d5e-d6492157acd3"
      },
      "execution_count": null,
      "outputs": [
        {
          "output_type": "error",
          "ename": "ValueError",
          "evalue": "could not convert string to float: 'Male'",
          "traceback": [
            "\u001b[0;31m---------------------------------------------------------------------------\u001b[0m",
            "\u001b[0;31mValueError\u001b[0m                                Traceback (most recent call last)",
            "\u001b[0;32m<ipython-input-45-aa5d7b6b3ba5>\u001b[0m in \u001b[0;36m<cell line: 2>\u001b[0;34m()\u001b[0m\n\u001b[1;32m      1\u001b[0m \u001b[0;31m#22\u001b[0m\u001b[0;34m\u001b[0m\u001b[0;34m\u001b[0m\u001b[0m\n\u001b[0;32m----> 2\u001b[0;31m \u001b[0msns\u001b[0m\u001b[0;34m.\u001b[0m\u001b[0mheatmap\u001b[0m\u001b[0;34m(\u001b[0m\u001b[0mdf\u001b[0m\u001b[0;34m.\u001b[0m\u001b[0mcorr\u001b[0m\u001b[0;34m(\u001b[0m\u001b[0;34m)\u001b[0m\u001b[0;34m)\u001b[0m\u001b[0;34m;\u001b[0m\u001b[0;34m\u001b[0m\u001b[0;34m\u001b[0m\u001b[0m\n\u001b[0m",
            "\u001b[0;32m/usr/local/lib/python3.10/dist-packages/pandas/core/frame.py\u001b[0m in \u001b[0;36mcorr\u001b[0;34m(self, method, min_periods, numeric_only)\u001b[0m\n\u001b[1;32m  10052\u001b[0m         \u001b[0mcols\u001b[0m \u001b[0;34m=\u001b[0m \u001b[0mdata\u001b[0m\u001b[0;34m.\u001b[0m\u001b[0mcolumns\u001b[0m\u001b[0;34m\u001b[0m\u001b[0;34m\u001b[0m\u001b[0m\n\u001b[1;32m  10053\u001b[0m         \u001b[0midx\u001b[0m \u001b[0;34m=\u001b[0m \u001b[0mcols\u001b[0m\u001b[0;34m.\u001b[0m\u001b[0mcopy\u001b[0m\u001b[0;34m(\u001b[0m\u001b[0;34m)\u001b[0m\u001b[0;34m\u001b[0m\u001b[0;34m\u001b[0m\u001b[0m\n\u001b[0;32m> 10054\u001b[0;31m         \u001b[0mmat\u001b[0m \u001b[0;34m=\u001b[0m \u001b[0mdata\u001b[0m\u001b[0;34m.\u001b[0m\u001b[0mto_numpy\u001b[0m\u001b[0;34m(\u001b[0m\u001b[0mdtype\u001b[0m\u001b[0;34m=\u001b[0m\u001b[0mfloat\u001b[0m\u001b[0;34m,\u001b[0m \u001b[0mna_value\u001b[0m\u001b[0;34m=\u001b[0m\u001b[0mnp\u001b[0m\u001b[0;34m.\u001b[0m\u001b[0mnan\u001b[0m\u001b[0;34m,\u001b[0m \u001b[0mcopy\u001b[0m\u001b[0;34m=\u001b[0m\u001b[0;32mFalse\u001b[0m\u001b[0;34m)\u001b[0m\u001b[0;34m\u001b[0m\u001b[0;34m\u001b[0m\u001b[0m\n\u001b[0m\u001b[1;32m  10055\u001b[0m \u001b[0;34m\u001b[0m\u001b[0m\n\u001b[1;32m  10056\u001b[0m         \u001b[0;32mif\u001b[0m \u001b[0mmethod\u001b[0m \u001b[0;34m==\u001b[0m \u001b[0;34m\"pearson\"\u001b[0m\u001b[0;34m:\u001b[0m\u001b[0;34m\u001b[0m\u001b[0;34m\u001b[0m\u001b[0m\n",
            "\u001b[0;32m/usr/local/lib/python3.10/dist-packages/pandas/core/frame.py\u001b[0m in \u001b[0;36mto_numpy\u001b[0;34m(self, dtype, copy, na_value)\u001b[0m\n\u001b[1;32m   1836\u001b[0m         \u001b[0;32mif\u001b[0m \u001b[0mdtype\u001b[0m \u001b[0;32mis\u001b[0m \u001b[0;32mnot\u001b[0m \u001b[0;32mNone\u001b[0m\u001b[0;34m:\u001b[0m\u001b[0;34m\u001b[0m\u001b[0;34m\u001b[0m\u001b[0m\n\u001b[1;32m   1837\u001b[0m             \u001b[0mdtype\u001b[0m \u001b[0;34m=\u001b[0m \u001b[0mnp\u001b[0m\u001b[0;34m.\u001b[0m\u001b[0mdtype\u001b[0m\u001b[0;34m(\u001b[0m\u001b[0mdtype\u001b[0m\u001b[0;34m)\u001b[0m\u001b[0;34m\u001b[0m\u001b[0;34m\u001b[0m\u001b[0m\n\u001b[0;32m-> 1838\u001b[0;31m         \u001b[0mresult\u001b[0m \u001b[0;34m=\u001b[0m \u001b[0mself\u001b[0m\u001b[0;34m.\u001b[0m\u001b[0m_mgr\u001b[0m\u001b[0;34m.\u001b[0m\u001b[0mas_array\u001b[0m\u001b[0;34m(\u001b[0m\u001b[0mdtype\u001b[0m\u001b[0;34m=\u001b[0m\u001b[0mdtype\u001b[0m\u001b[0;34m,\u001b[0m \u001b[0mcopy\u001b[0m\u001b[0;34m=\u001b[0m\u001b[0mcopy\u001b[0m\u001b[0;34m,\u001b[0m \u001b[0mna_value\u001b[0m\u001b[0;34m=\u001b[0m\u001b[0mna_value\u001b[0m\u001b[0;34m)\u001b[0m\u001b[0;34m\u001b[0m\u001b[0;34m\u001b[0m\u001b[0m\n\u001b[0m\u001b[1;32m   1839\u001b[0m         \u001b[0;32mif\u001b[0m \u001b[0mresult\u001b[0m\u001b[0;34m.\u001b[0m\u001b[0mdtype\u001b[0m \u001b[0;32mis\u001b[0m \u001b[0;32mnot\u001b[0m \u001b[0mdtype\u001b[0m\u001b[0;34m:\u001b[0m\u001b[0;34m\u001b[0m\u001b[0;34m\u001b[0m\u001b[0m\n\u001b[1;32m   1840\u001b[0m             \u001b[0mresult\u001b[0m \u001b[0;34m=\u001b[0m \u001b[0mnp\u001b[0m\u001b[0;34m.\u001b[0m\u001b[0marray\u001b[0m\u001b[0;34m(\u001b[0m\u001b[0mresult\u001b[0m\u001b[0;34m,\u001b[0m \u001b[0mdtype\u001b[0m\u001b[0;34m=\u001b[0m\u001b[0mdtype\u001b[0m\u001b[0;34m,\u001b[0m \u001b[0mcopy\u001b[0m\u001b[0;34m=\u001b[0m\u001b[0;32mFalse\u001b[0m\u001b[0;34m)\u001b[0m\u001b[0;34m\u001b[0m\u001b[0;34m\u001b[0m\u001b[0m\n",
            "\u001b[0;32m/usr/local/lib/python3.10/dist-packages/pandas/core/internals/managers.py\u001b[0m in \u001b[0;36mas_array\u001b[0;34m(self, dtype, copy, na_value)\u001b[0m\n\u001b[1;32m   1730\u001b[0m                 \u001b[0marr\u001b[0m\u001b[0;34m.\u001b[0m\u001b[0mflags\u001b[0m\u001b[0;34m.\u001b[0m\u001b[0mwriteable\u001b[0m \u001b[0;34m=\u001b[0m \u001b[0;32mFalse\u001b[0m\u001b[0;34m\u001b[0m\u001b[0;34m\u001b[0m\u001b[0m\n\u001b[1;32m   1731\u001b[0m         \u001b[0;32melse\u001b[0m\u001b[0;34m:\u001b[0m\u001b[0;34m\u001b[0m\u001b[0;34m\u001b[0m\u001b[0m\n\u001b[0;32m-> 1732\u001b[0;31m             \u001b[0marr\u001b[0m \u001b[0;34m=\u001b[0m \u001b[0mself\u001b[0m\u001b[0;34m.\u001b[0m\u001b[0m_interleave\u001b[0m\u001b[0;34m(\u001b[0m\u001b[0mdtype\u001b[0m\u001b[0;34m=\u001b[0m\u001b[0mdtype\u001b[0m\u001b[0;34m,\u001b[0m \u001b[0mna_value\u001b[0m\u001b[0;34m=\u001b[0m\u001b[0mna_value\u001b[0m\u001b[0;34m)\u001b[0m\u001b[0;34m\u001b[0m\u001b[0;34m\u001b[0m\u001b[0m\n\u001b[0m\u001b[1;32m   1733\u001b[0m             \u001b[0;31m# The underlying data was copied within _interleave, so no need\u001b[0m\u001b[0;34m\u001b[0m\u001b[0;34m\u001b[0m\u001b[0m\n\u001b[1;32m   1734\u001b[0m             \u001b[0;31m# to further copy if copy=True or setting na_value\u001b[0m\u001b[0;34m\u001b[0m\u001b[0;34m\u001b[0m\u001b[0m\n",
            "\u001b[0;32m/usr/local/lib/python3.10/dist-packages/pandas/core/internals/managers.py\u001b[0m in \u001b[0;36m_interleave\u001b[0;34m(self, dtype, na_value)\u001b[0m\n\u001b[1;32m   1792\u001b[0m             \u001b[0;32melse\u001b[0m\u001b[0;34m:\u001b[0m\u001b[0;34m\u001b[0m\u001b[0;34m\u001b[0m\u001b[0m\n\u001b[1;32m   1793\u001b[0m                 \u001b[0marr\u001b[0m \u001b[0;34m=\u001b[0m \u001b[0mblk\u001b[0m\u001b[0;34m.\u001b[0m\u001b[0mget_values\u001b[0m\u001b[0;34m(\u001b[0m\u001b[0mdtype\u001b[0m\u001b[0;34m)\u001b[0m\u001b[0;34m\u001b[0m\u001b[0;34m\u001b[0m\u001b[0m\n\u001b[0;32m-> 1794\u001b[0;31m             \u001b[0mresult\u001b[0m\u001b[0;34m[\u001b[0m\u001b[0mrl\u001b[0m\u001b[0;34m.\u001b[0m\u001b[0mindexer\u001b[0m\u001b[0;34m]\u001b[0m \u001b[0;34m=\u001b[0m \u001b[0marr\u001b[0m\u001b[0;34m\u001b[0m\u001b[0;34m\u001b[0m\u001b[0m\n\u001b[0m\u001b[1;32m   1795\u001b[0m             \u001b[0mitemmask\u001b[0m\u001b[0;34m[\u001b[0m\u001b[0mrl\u001b[0m\u001b[0;34m.\u001b[0m\u001b[0mindexer\u001b[0m\u001b[0;34m]\u001b[0m \u001b[0;34m=\u001b[0m \u001b[0;36m1\u001b[0m\u001b[0;34m\u001b[0m\u001b[0;34m\u001b[0m\u001b[0m\n\u001b[1;32m   1796\u001b[0m \u001b[0;34m\u001b[0m\u001b[0m\n",
            "\u001b[0;31mValueError\u001b[0m: could not convert string to float: 'Male'"
          ]
        }
      ]
    },
    {
      "cell_type": "code",
      "source": [
        "#23 Correlation with stroke der!\n",
        "#features คือ นำเข้า column ที่เราต้องการลงไป\n",
        "\n",
        "features=['gender', 'age', 'hypertension', 'heart_disease', 'ever_married',\n",
        "       'work_type', 'Residence_type',\n",
        "       'smoking_status']\n",
        "\n",
        "\n",
        "correlation_table = [] #สร้าง list\n",
        "\n",
        "#for loop นี้จะทำการ corrcoef features ที่เรากำหนด กับ stroke นะ\n",
        "for cols in features:\n",
        "    y = en_df[\"stroke\"]\n",
        "    x = en_df[cols]\n",
        "    corr = np.corrcoef(x, y)[1][0]\n",
        "    dict ={\n",
        "        'Features': cols,\n",
        "        'Correlation coefficient' : corr,\n",
        "        'Feat_type': 'numerical'\n",
        "    }\n",
        "    correlation_table.append(dict) #เมื่อ loop แล้วเก็บใส่ใน list นี้\n",
        "\n",
        "dF1 = pd.DataFrame(correlation_table) #create dataframe der!\n",
        "fig = plt.figure(figsize=(10,6), facecolor='#EAECEE')\n",
        "\n",
        "#ทำการ plot by seaborn\n",
        "ax = sns.barplot(x=\"Correlation coefficient\", y=\"Features\",\n",
        "                     data=dF1.sort_values(\"Correlation coefficient\", ascending=False),\n",
        "                     palette='viridis', alpha=0.75)\n",
        "ax.grid()\n",
        "\n",
        "\n",
        "title =  'Correlation Feature w/ Stroke'\n",
        "sub_title = 'Comparison of categorical features with numerical that correlated to target.'\n",
        "\n",
        "\n",
        "plt.gcf().text(0.05, 1.02, title, fontsize=24)\n",
        "\n",
        "from matplotlib.offsetbox import AnchoredText\n",
        "at1 = AnchoredText(sub_title,\n",
        "                   loc='lower left', frameon=True,\n",
        "                   bbox_to_anchor=(-0.1, 1.01),\n",
        "                   bbox_transform=ax.transAxes,\n",
        "\n",
        "                   )\n",
        "at1.patch.set_boxstyle(\"round,pad=0.,rounding_size=0.2\")\n",
        "ax.add_artist(at1)"
      ],
      "metadata": {
        "id": "na7--UzMUBx_"
      },
      "execution_count": null,
      "outputs": []
    },
    {
      "cell_type": "code",
      "source": [
        "#24 Heatmap Correlation ปกติ\n",
        "plt.figure(figsize=(16,8))\n",
        "sns.heatmap(en_df.corr(),cmap=\"Blues\");"
      ],
      "metadata": {
        "id": "3SW-pte5IVo1"
      },
      "execution_count": null,
      "outputs": []
    },
    {
      "cell_type": "code",
      "source": [
        "plt.figure(figsize=(16,8))\n",
        "sns.heatmap(en_df.corr(), cmap=\"Blues\", annot=True, fmt='.2f');\n",
        "#25 Heat-Map Correlation แบบใส่เลข"
      ],
      "metadata": {
        "id": "-F35Kp9O-ma3"
      },
      "execution_count": null,
      "outputs": []
    },
    {
      "cell_type": "code",
      "source": [
        "#26\n",
        "from sklearn.ensemble import ExtraTreesClassifier\n",
        "\n",
        "X = en_df[features] #features = ตัวแปรอิสระ (Independent Variable)\n",
        "y = en_df['stroke'] #stroke  = ตัวแปรตาม (Dependent Variable)\n",
        "\n",
        "\n",
        "forest = ExtraTreesClassifier(n_estimators=250,\n",
        "                              random_state=0) #กำหนดตัวทดลอง n_estimators = 250\n",
        "forest.fit(X, y) #ให้เรียนรู้จากข้อมูล\n",
        "\n",
        "importances = forest.feature_importances_\n",
        "std = np.std([tree.feature_importances_ for tree in forest.estimators_],\n",
        "             axis=0)\n",
        "indices = np.argsort(importances)[::-1]\n",
        "\n",
        "#  feature ranking\n",
        "print(\"Feature ranking:\")\n",
        "\n",
        "for f in range(X.shape[1]):\n",
        "    print(\"%d. feature %d (%f)\" % (f + 1, indices[f], importances[indices[f]]))\n",
        "\n",
        "\n",
        "\n",
        "\n",
        "plt.figure()\n",
        "\n",
        "plt.title(\"Feature importances\")\n",
        "sns.barplot(x=np.array(features)[indices], y=importances[indices], palette=\"deep\",yerr=std[indices])\n",
        "plt.xticks(range(X.shape[1]), np.array(features)[indices],rotation=60)\n",
        "plt.xlim([-1, X.shape[1]])\n",
        "plt.show()"
      ],
      "metadata": {
        "id": "QGzr-yjc68Qf"
      },
      "execution_count": null,
      "outputs": []
    },
    {
      "cell_type": "markdown",
      "source": [
        "# Fixing Value"
      ],
      "metadata": {
        "id": "5_AdeoA3GnZb"
      }
    },
    {
      "cell_type": "code",
      "source": [
        "#27\n",
        "en_df_imputed = en_df\n",
        "imputer = KNNImputer(n_neighbors=4, weights=\"uniform\")\n",
        "imputer.fit_transform(en_df_imputed)"
      ],
      "metadata": {
        "id": "FH9AV8M1Ilmz"
      },
      "execution_count": null,
      "outputs": []
    },
    {
      "cell_type": "markdown",
      "source": [
        "### Balancing Value จาก SMOTE จะเป็นการสร้างข้อมูลเทียม เราใช้เวลาตอนเรามีข้อมูลที่มันไม่ค่อย balance กัน\n",
        "### สังเกตุจากตอนแรกเรามี stroke =1 = 249 คน แต่หลังจาก SMOTE จะเป็นการสร้างข้อมูลเทียมขึ้นมา\n",
        "### เพื่อให้ตัว model มันมีตัวอย่างในการ train ขึ้นด้วย"
      ],
      "metadata": {
        "id": "9GT_MYuSx2HY"
      }
    },
    {
      "cell_type": "code",
      "source": [
        "#28\n",
        "'''Balancing Value จาก SMOTE จะเป็นการสร้างข้อมูลเทียม เราใช้เวลาตอนเรามีข้อมูลที่มันไม่ค่อย balance กัน\n",
        "สังเกตุจากตอนแรกเรามี stroke =1 = 249 คน แต่หลังจาก SMOTE จะเป็นการสร้างข้อมูลเทียมขึ้นมา\n",
        "เพื่อให้ตัว model มันมีตัวอย่างในการ train ขึ้นด้วย'''\n",
        "\n",
        "\n",
        "\n",
        "from imblearn.over_sampling import SMOTE\n",
        "X , y = en_df_imputed[features],en_df_imputed[\"stroke\"]\n",
        "x_train,x_test,y_train,y_test = train_test_split(X,y,test_size=0.2,random_state=23)\n",
        "sm = SMOTE()\n",
        "X_res, y_res = sm.fit_resample(x_train,y_train)\n",
        "\n",
        "print(\"ก่อน OverSampling จำนวน Stroke ที่เป็น '1'คือ {}\".format(sum(y==1)))\n",
        "print(\"ก่อน OverSampling จำนวน Stroke ที่เป็น '0'คือ {} \\n\".format(sum(y==0)))\n",
        "\n",
        "print('หลัง OverSampling จำนวน features คือ {}\\n'.format(X_res.shape))\n",
        "\n",
        "print(\"หลังจาก OverSampling, จำนวนคนที่เป็น Stroke คือ {}\".format(sum(y_res==1)))\n",
        "print(\"หลังจาก OverSampling, จำนวนคนที่ไม่เป็น Stroke คือ {}\".format(sum(y_res==0)))\n",
        "\n",
        "#ที่คนที่เป็นกับไม่เป็นเท่ากันเพราะเราแก้ imbalance ให้เท่าๆ กัน จะทำให้โมเดลมันวิเคราะห์ง่ายขึ้น"
      ],
      "metadata": {
        "id": "chcYsyzwryxx"
      },
      "execution_count": null,
      "outputs": []
    },
    {
      "cell_type": "markdown",
      "source": [
        "# Modelling"
      ],
      "metadata": {
        "id": "jHriCZ69sE5H"
      }
    },
    {
      "cell_type": "code",
      "source": [
        "#29\n",
        "def plot_cm(cm,title):\n",
        "    z = cm\n",
        "    x = ['No stroke', 'stroke']\n",
        "    y = x\n",
        "\n",
        "    z_text = [[str(y) for y in x] for x in z]\n",
        "\n",
        "    # set up figure\n",
        "    fig = ff.create_annotated_heatmap(z, x=x, y=y, annotation_text=z_text, colorscale='deep')\n",
        "\n",
        "    # add title\n",
        "    fig.update_layout(title_text='<i><b>Confusion matrix {}</b></i>'.format(title)\n",
        "\n",
        "                     )\n",
        "\n",
        "    fig.add_annotation({'font':{'color':\"black\",'size':14},\n",
        "                            'x':0.5,\n",
        "                            'y':-0.10,\n",
        "                            'showarrow':False,\n",
        "                            'text':\"Predicted value\",\n",
        "                            'xref':\"paper\",\n",
        "                            'yref':\"paper\"})\n",
        "\n",
        "    fig.add_annotation({'font':{'color':\"black\",'size':14},\n",
        "                            'x':-0.15,\n",
        "                            'y':0.5,\n",
        "                            'showarrow':False,\n",
        "                            'text':\"Real value\",\n",
        "                            'textangle':-90,\n",
        "                            'xref':\"paper\",\n",
        "                            'yref':\"paper\"})\n",
        "\n",
        "\n",
        "\n",
        "    fig.update_layout(margin={'t':50, 'l':20},width=750,height=750)\n",
        "\n",
        "\n",
        "\n",
        "\n",
        "    fig['data'][0]['showscale'] = True\n",
        "    fig.show()\n",
        "\n",
        "\n",
        "\n",
        "def hist_score(score):\n",
        "    models_names = [\n",
        "        'Logistic Regression',\n",
        "    'KNearest Neighbor',\n",
        "    'Decision Tree Classifier',\n",
        "    'Random Forest Classifier',]\n",
        "\n",
        "    plt.rcParams['figure.figsize']=20,8\n",
        "    sns.set_style('darkgrid')\n",
        "    ax = sns.barplot(x=models_names, y=score, palette = \"inferno\", saturation =2.0)\n",
        "    plt.xlabel('Classifier Models', fontsize = 20 )\n",
        "    plt.ylabel('% of Accuracy', fontsize = 20)\n",
        "    plt.title('Accuracy of different Classifier Models on test set', fontsize = 20)\n",
        "    plt.xticks(fontsize = 12, horizontalalignment = 'center', rotation = 8)\n",
        "    plt.yticks(fontsize = 12)\n",
        "    for i in ax.patches:\n",
        "        width, height = i.get_width(), i.get_height()\n",
        "        x, y = i.get_xy()\n",
        "        ax.annotate(f'{round(height,2)}%', (x + width/2, y + height*1.02), ha='center', fontsize = 'x-large')\n",
        "    plt.show()"
      ],
      "metadata": {
        "id": "xSKj-xamGpLK"
      },
      "execution_count": null,
      "outputs": []
    },
    {
      "cell_type": "code",
      "source": [
        "#30\n",
        "def run_exp_on_feature(x_train,y_train,x_test,y_test):\n",
        "\n",
        "    models= [['Logistic Regression ',LogisticRegression()],\n",
        "            ['KNearest Neighbor ',KNeighborsClassifier()],\n",
        "            ['Decision Tree Classifier ',DecisionTreeClassifier()],\n",
        "            ['Random Forest Classifier ',RandomForestClassifier()],]\n",
        "\n",
        "    models_score = []\n",
        "    for name,model in models:\n",
        "\n",
        "        model = model\n",
        "        model.fit(x_train,y_train)\n",
        "        model_pred = model.predict(x_test)\n",
        "        cm_model = confusion_matrix(y_test, model_pred)\n",
        "        print(cm_model)\n",
        "        models_score.append(accuracy_score(y_test,model.predict(x_test)))\n",
        "\n",
        "        print(name)\n",
        "        print('Validation Acuuracy: ',accuracy_score(y_test,model.predict(x_test)))\n",
        "        print('Training Accuracy: ',accuracy_score(y_train,model.predict(x_train)))\n",
        "\n",
        "        plot_cm(cm_model,title=name+\"model\")\n",
        "        fpr, tpr, thresholds = roc_curve(y_test, model_pred)\n",
        "\n",
        "        fig = px.area(\n",
        "            x=fpr, y=tpr,\n",
        "            title=f'ROC Curve (AUC={auc(fpr, tpr):.4f})',\n",
        "            labels={'x':'False Positive Rate', 'y':'True Positive Rate'},\n",
        "            width=700, height=500\n",
        "        )\n",
        "        fig.add_shape(\n",
        "            type='line', line={'dash':'dash'},\n",
        "            x0=0, x1=1, y0=0, y1=1\n",
        "        )\n",
        "\n",
        "        fig.update_yaxes(scaleanchor=\"x\", scaleratio=1)\n",
        "        fig.update_xaxes(constrain='domain')\n",
        "\n",
        "\n",
        "    return models_score\n",
        "\n"
      ],
      "metadata": {
        "id": "oykYGZsYGuaz"
      },
      "execution_count": null,
      "outputs": []
    },
    {
      "cell_type": "code",
      "source": [
        "#29\n",
        "models_score = run_exp_on_feature(x_train,y_train,x_test,y_test)\n"
      ],
      "metadata": {
        "id": "h40qeXVPGxgb"
      },
      "execution_count": null,
      "outputs": []
    },
    {
      "cell_type": "code",
      "source": [
        "#30\n",
        "hist_score(models_score)\n"
      ],
      "metadata": {
        "id": "ge2v3tNQtxeC"
      },
      "execution_count": null,
      "outputs": []
    }
  ]
}